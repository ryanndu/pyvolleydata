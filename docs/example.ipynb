{
    "cells": [
        {
            "cell_type": "markdown",
            "metadata": {},
            "source": [
                "# Working with Volleyball data in Python using `pyvolleydata`"
            ]
        },
        {
            "cell_type": "markdown",
            "metadata": {},
            "source": [
                "## Overview\n",
                "\n",
                "This guide explains how to use the `pyvolleydata` package to access clean and tidy data from the Major League Volleyball (MLV), League One Volleyball (LOVB), and the Athlete Unlimited Pro Volleyball (AUPVB)."
            ]
        },
        {
            "cell_type": "markdown",
            "metadata": {},
            "source": [
                "## Installation\n",
                "\n",
                "You can install the `pyvolleydata` package with:\n",
                "\n",
                "```bash\n",
                "$ pip install pyvolleydata\n",
                "```"
            ]
        },
        {
            "cell_type": "markdown",
            "metadata": {},
            "source": [
                "## Usage\n",
                "\n",
                "The following code shows how to get stats from the MLV, LOVB, and AUPVB volleyball leagues.\n",
                "\n",
                "To use `pyvolleydata` in a project:"
            ]
        },
        {
            "cell_type": "code",
            "execution_count": 1,
            "metadata": {},
            "outputs": [
                {
                    "name": "stdout",
                    "output_type": "stream",
                    "text": [
                        "0.1.0\n"
                    ]
                }
            ],
            "source": [
                "import pyvolleydata\n",
                "print(pyvolleydata.__version__)"
            ]
        },
        {
            "cell_type": "markdown",
            "metadata": {},
            "source": [
                "## Working with MLV and LOVB Data\n",
                "\n",
                "Functions in `pyvolleydata` work for both **MLV** and **LOVB**. Each league has its own version of the function (like `load_mlv_pbp()` and `load_lovb_pbp()`).\n",
                "\n",
                "In this guide, we’ll show examples using **both**, by alternating between them."
            ]
        },
        {
            "cell_type": "markdown",
            "metadata": {},
            "source": [
                "`load_lovb_schedule()`"
            ]
        },
        {
            "cell_type": "code",
            "execution_count": 2,
            "metadata": {},
            "outputs": [
                {
                    "name": "stdout",
                    "output_type": "stream",
                    "text": [
                        "   season        date  home_team away_team  home_team_set_wins  \\\n",
                        "0    2025  2025-01-09  Salt Lake   Atlanta                   1   \n",
                        "1    2025  2025-01-10     Austin   Houston                   3   \n",
                        "2    2025  2025-01-10    Madison    Austin                   3   \n",
                        "3    2025  2025-01-11      Omaha   Houston                   0   \n",
                        "4    2025  2025-01-16    Atlanta    Austin                   1   \n",
                        "\n",
                        "   away_team_set_wins                                         match_link  \\\n",
                        "0                   3  https://www.lovb.com/2025/schedule/Atlanta-Sal...   \n",
                        "1                   2  https://www.lovb.com/2025/schedule/Houston-Aus...   \n",
                        "2                   0  https://www.lovb.com/2025/schedule/Austin-Madi...   \n",
                        "3                   3  https://www.lovb.com/2025/schedule/Houston-Oma...   \n",
                        "4                   3  https://www.lovb.com/2025/schedule/Austin-Atla...   \n",
                        "\n",
                        "                                      secondary_link  match_id  \n",
                        "0  https://widgets.volleystation.com/play-by-play...   2161068  \n",
                        "1  https://widgets.volleystation.com/play-by-play...   2161288  \n",
                        "2  https://widgets.volleystation.com/play-by-play...   2161289  \n",
                        "3  https://widgets.volleystation.com/play-by-play...   2161290  \n",
                        "4  https://widgets.volleystation.com/play-by-play...   2161291  \n"
                    ]
                }
            ],
            "source": [
                "from pyvolleydata.lovb import load_lovb_schedule\n",
                "\n",
                "# Get the lovb schedule for 2025\n",
                "schedule = load_lovb_schedule(2025)\n",
                "print(schedule.head())"
            ]
        },
        {
            "cell_type": "markdown",
            "metadata": {},
            "source": [
                "`load_mlv_officials()`"
            ]
        },
        {
            "cell_type": "code",
            "execution_count": 3,
            "metadata": {},
            "outputs": [
                {
                    "name": "stdout",
                    "output_type": "stream",
                    "text": [
                        "     match_id  season            match_datetime officials_type  \\\n",
                        "375   2160917    2025  2025-01-11T01:00:00.000Z       referee1   \n",
                        "376   2160917    2025  2025-01-11T01:00:00.000Z       referee2   \n",
                        "377   2160917    2025  2025-01-11T01:00:00.000Z        scorer1   \n",
                        "378   2160917    2025  2025-01-11T01:00:00.000Z        scorer2   \n",
                        "379   2160918    2025  2025-01-11T03:00:00.000Z       referee1   \n",
                        "\n",
                        "          full_name first_name last_name level  \n",
                        "375    Bill Stanley       Bill   Stanley   AAA  \n",
                        "376   Suzanne Lowry    Suzanne     Lowry   AAA  \n",
                        "377   Nicole Conway     Nicole    Conway     A  \n",
                        "378     Kacie Hoppe      Kacie     Hoppe     A  \n",
                        "379  LANDRY HOMSHER     LANDRY   HOMSHER   USA  \n"
                    ]
                }
            ],
            "source": [
                "from pyvolleydata.mlv import load_mlv_officials\n",
                "\n",
                "# Get the pvf officials for 2025\n",
                "officials = load_mlv_officials(2025)\n",
                "print(officials.head())"
            ]
        },
        {
            "cell_type": "markdown",
            "metadata": {},
            "source": [
                "`load_lovb_player_boxscore()`"
            ]
        },
        {
            "cell_type": "code",
            "execution_count": 4,
            "metadata": {},
            "outputs": [
                {
                    "name": "stdout",
                    "output_type": "stream",
                    "text": [
                        "   match_id  season            match_datetime team_involved     team_name  \\\n",
                        "0   2161068    2025  2025-01-09T00:30:00.000Z          home  LOVB Atlanta   \n",
                        "1   2161068    2025  2025-01-09T00:30:00.000Z          home  LOVB Atlanta   \n",
                        "2   2161068    2025  2025-01-09T00:30:00.000Z          home  LOVB Atlanta   \n",
                        "3   2161068    2025  2025-01-09T00:30:00.000Z          home  LOVB Atlanta   \n",
                        "4   2161068    2025  2025-01-09T00:30:00.000Z          home  LOVB Atlanta   \n",
                        "\n",
                        "    player_name first_name last_name  sets_played  player_number  ...  \\\n",
                        "0  Tia Jimerson        Tia  Jimerson            4           14.0  ...   \n",
                        "1  Tia Jimerson        Tia  Jimerson            4           14.0  ...   \n",
                        "2  Tia Jimerson        Tia  Jimerson            4           14.0  ...   \n",
                        "3  Tia Jimerson        Tia  Jimerson            4           14.0  ...   \n",
                        "4  Onye Ofoegbu       Onye   Ofoegbu            1           11.0  ...   \n",
                        "\n",
                        "   perfect_reception_ratio  block_points  block_touches  earned_points  \\\n",
                        "0                      NaN           0.0            0.0            0.0   \n",
                        "1                      NaN           0.0            0.0            0.0   \n",
                        "2                      NaN           1.0            0.0            2.0   \n",
                        "3                      NaN           2.0            0.0            5.0   \n",
                        "4                      NaN           0.0            0.0            NaN   \n",
                        "\n",
                        "   net_points  assists  successful_digs                        id  spike_hp  \\\n",
                        "0         0.0      0.0              0.0  677ef813c9dc64576318ded4       0.0   \n",
                        "1         0.0      0.0              0.0  677ef813c9dc64576318ded4       0.0   \n",
                        "2         2.0      0.0              0.0  677ef813c9dc64576318ded4       0.0   \n",
                        "3         5.0      0.0              0.0  677ef813c9dc64576318ded4       1.0   \n",
                        "4         NaN      NaN              1.0  677ef813c9dc64576318ded4       0.0   \n",
                        "\n",
                        "   points  \n",
                        "0     0.0  \n",
                        "1     0.0  \n",
                        "2     2.0  \n",
                        "3     1.0  \n",
                        "4     NaN  \n",
                        "\n",
                        "[5 rows x 36 columns]\n"
                    ]
                }
            ],
            "source": [
                "from pyvolleydata.lovb import load_lovb_player_boxscore\n",
                "\n",
                "# Get the lovb player boxscore for 2025\n",
                "player_boxscore = load_lovb_player_boxscore(2025)\n",
                "print(player_boxscore.head())"
            ]
        },
        {
            "cell_type": "markdown",
            "metadata": {},
            "source": [
                "`load_mlv_team_staff()`"
            ]
        },
        {
            "cell_type": "code",
            "execution_count": 5,
            "metadata": {},
            "outputs": [
                {
                    "name": "stdout",
                    "output_type": "stream",
                    "text": [
                        "     match_id  season            match_datetime          team_name staff_type  \\\n",
                        "352   2160918    2025  2025-01-11T03:00:00.000Z       Vegas Thrill      coach   \n",
                        "353   2160918    2025  2025-01-11T03:00:00.000Z       Vegas Thrill  assistant   \n",
                        "354   2160918    2025  2025-01-11T03:00:00.000Z       Vegas Thrill  assistant   \n",
                        "355   2160918    2025  2025-01-11T03:00:00.000Z  Grand Rapids Rise      coach   \n",
                        "356   2160918    2025  2025-01-11T03:00:00.000Z  Grand Rapids Rise  assistant   \n",
                        "\n",
                        "           full_name first_name  last_name  \n",
                        "352  RAMON HERNANDEZ      RAMON  HERNANDEZ  \n",
                        "353     RAUL PAPALEO       RAUL    PAPALEO  \n",
                        "354       MELODY NUA     MELODY        NUA  \n",
                        "355     CATHY GEORGE      CATHY     GEORGE  \n",
                        "356      MIKE GAWLIK       MIKE     GAWLIK  \n"
                    ]
                }
            ],
            "source": [
                "from pyvolleydata.mlv import load_mlv_team_staff\n",
                "\n",
                "# Get the mlv team staff for 2025\n",
                "team_staff = load_mlv_team_staff(2025)\n",
                "print(team_staff.head())"
            ]
        },
        {
            "cell_type": "markdown",
            "metadata": {},
            "source": [
                "`load_lovb_pbp()`"
            ]
        },
        {
            "cell_type": "code",
            "execution_count": 6,
            "metadata": {},
            "outputs": [
                {
                    "name": "stdout",
                    "output_type": "stream",
                    "text": [
                        "   match_id  season            match_datetime home_team_name  away_team_name  \\\n",
                        "0   2161068    2025  2025-01-09T00:30:00.000Z   LOVB Atlanta  LOVB Salt Lake   \n",
                        "1   2161068    2025  2025-01-09T00:30:00.000Z   LOVB Atlanta  LOVB Salt Lake   \n",
                        "2   2161068    2025  2025-01-09T00:30:00.000Z   LOVB Atlanta  LOVB Salt Lake   \n",
                        "3   2161068    2025  2025-01-09T00:30:00.000Z   LOVB Atlanta  LOVB Salt Lake   \n",
                        "4   2161068    2025  2025-01-09T00:30:00.000Z   LOVB Atlanta  LOVB Salt Lake   \n",
                        "\n",
                        "  team_involved  jersey_number action outcome  set  point_number point_winner  \\\n",
                        "0          home             10      S       -    1             1         home   \n",
                        "1          away             17      R       #    1             1         home   \n",
                        "2          away              1      E       +    1             1         home   \n",
                        "3          away             11      A       -    1             1         home   \n",
                        "4          home             23      D       #    1             1         home   \n",
                        "\n",
                        "   home_score  away_score  \n",
                        "0           1           0  \n",
                        "1           1           0  \n",
                        "2           1           0  \n",
                        "3           1           0  \n",
                        "4           1           0  \n"
                    ]
                }
            ],
            "source": [
                "from pyvolleydata.lovb import load_lovb_pbp\n",
                "\n",
                "# Get the lovb pbp for 2025\n",
                "pbp = load_lovb_pbp(2025)\n",
                "print(pbp.head())"
            ]
        },
        {
            "cell_type": "markdown",
            "metadata": {},
            "source": [
                "`load_mlv_events_log()`"
            ]
        },
        {
            "cell_type": "code",
            "execution_count": 7,
            "metadata": {},
            "outputs": [
                {
                    "name": "stdout",
                    "output_type": "stream",
                    "text": [
                        "   match_id  season            match_datetime  set            set_start_time  \\\n",
                        "0   2160916    2025  2025-01-10T00:00:00.000Z    1  2025-01-09T23:49:00.000Z   \n",
                        "1   2160916    2025  2025-01-10T00:00:00.000Z    1  2025-01-09T23:49:00.000Z   \n",
                        "2   2160916    2025  2025-01-10T00:00:00.000Z    1  2025-01-09T23:49:00.000Z   \n",
                        "3   2160916    2025  2025-01-10T00:00:00.000Z    1  2025-01-09T23:49:00.000Z   \n",
                        "4   2160916    2025  2025-01-10T00:00:00.000Z    1  2025-01-09T23:49:00.000Z   \n",
                        "\n",
                        "               set_end_time  set_duration  set_final_home_score  \\\n",
                        "0  2025-01-10T00:29:00.000Z          39.0                  25.0   \n",
                        "1  2025-01-10T00:29:00.000Z          39.0                  25.0   \n",
                        "2  2025-01-10T00:29:00.000Z          39.0                  25.0   \n",
                        "3  2025-01-10T00:29:00.000Z          39.0                  25.0   \n",
                        "4  2025-01-10T00:29:00.000Z          39.0                  25.0   \n",
                        "\n",
                        "   set_final_away_score event_type  ... away_team_p6 verified_time  \\\n",
                        "0                  18.0     libero  ...          NaN           NaN   \n",
                        "1                  18.0     libero  ...          NaN           NaN   \n",
                        "2                  18.0      rally  ...          NaN           NaN   \n",
                        "3                  18.0     libero  ...          NaN           NaN   \n",
                        "4                  18.0      rally  ...          NaN           NaN   \n",
                        "\n",
                        "  verified_method  sanction_type  sanction_remark sanction_staff_role  \\\n",
                        "0             NaN            NaN              NaN                 NaN   \n",
                        "1             NaN            NaN              NaN                 NaN   \n",
                        "2             NaN            NaN              NaN                 NaN   \n",
                        "3             NaN            NaN              NaN                 NaN   \n",
                        "4             NaN            NaN              NaN                 NaN   \n",
                        "\n",
                        "  staff_first_name staff_last_name  staff_type  is_exceptional  \n",
                        "0              NaN             NaN         NaN             NaN  \n",
                        "1              NaN             NaN         NaN             NaN  \n",
                        "2              NaN             NaN         NaN             NaN  \n",
                        "3              NaN             NaN         NaN             NaN  \n",
                        "4              NaN             NaN         NaN             NaN  \n",
                        "\n",
                        "[5 rows x 51 columns]\n"
                    ]
                },
                {
                    "name": "stderr",
                    "output_type": "stream",
                    "text": [
                        "C:\\Users\\ryand\\pyvolleydata\\src\\pyvolleydata\\mlv.py:392: DtypeWarning: Columns (27,42,43,44,47,48,49,50) have mixed types. Specify dtype option on import or set low_memory=False.\n",
                        "  events_log = pd.concat([events_log, pd.read_csv(f'https://github.com/awosoga/volleydata/releases/download/pvf-events-log/pvf_events_log_{season}.csv')])\n"
                    ]
                }
            ],
            "source": [
                "from pyvolleydata.mlv import load_mlv_events_log\n",
                "\n",
                "# Get the mlv events log for 2025\n",
                "events_log = load_mlv_events_log(2025)\n",
                "print(events_log.head())"
            ]
        },
        {
            "cell_type": "markdown",
            "metadata": {},
            "source": [
                "`load_lovb_player_boxscore()`"
            ]
        },
        {
            "cell_type": "code",
            "execution_count": 11,
            "metadata": {},
            "outputs": [
                {
                    "name": "stdout",
                    "output_type": "stream",
                    "text": [
                        "   match_id  season            match_datetime team_involved     team_name  \\\n",
                        "0   2161068    2025  2025-01-09T00:30:00.000Z          home  LOVB Atlanta   \n",
                        "1   2161068    2025  2025-01-09T00:30:00.000Z          home  LOVB Atlanta   \n",
                        "2   2161068    2025  2025-01-09T00:30:00.000Z          home  LOVB Atlanta   \n",
                        "3   2161068    2025  2025-01-09T00:30:00.000Z          home  LOVB Atlanta   \n",
                        "4   2161068    2025  2025-01-09T00:30:00.000Z          home  LOVB Atlanta   \n",
                        "\n",
                        "    player_name first_name last_name  sets_played  player_number  ...  \\\n",
                        "0  Tia Jimerson        Tia  Jimerson            4           14.0  ...   \n",
                        "1  Tia Jimerson        Tia  Jimerson            4           14.0  ...   \n",
                        "2  Tia Jimerson        Tia  Jimerson            4           14.0  ...   \n",
                        "3  Tia Jimerson        Tia  Jimerson            4           14.0  ...   \n",
                        "4  Onye Ofoegbu       Onye   Ofoegbu            1           11.0  ...   \n",
                        "\n",
                        "   perfect_reception_ratio  block_points  block_touches  earned_points  \\\n",
                        "0                      NaN           0.0            0.0            0.0   \n",
                        "1                      NaN           0.0            0.0            0.0   \n",
                        "2                      NaN           1.0            0.0            2.0   \n",
                        "3                      NaN           2.0            0.0            5.0   \n",
                        "4                      NaN           0.0            0.0            NaN   \n",
                        "\n",
                        "   net_points  assists  successful_digs                        id  spike_hp  \\\n",
                        "0         0.0      0.0              0.0  677ef813c9dc64576318ded4       0.0   \n",
                        "1         0.0      0.0              0.0  677ef813c9dc64576318ded4       0.0   \n",
                        "2         2.0      0.0              0.0  677ef813c9dc64576318ded4       0.0   \n",
                        "3         5.0      0.0              0.0  677ef813c9dc64576318ded4       1.0   \n",
                        "4         NaN      NaN              1.0  677ef813c9dc64576318ded4       0.0   \n",
                        "\n",
                        "   points  \n",
                        "0     0.0  \n",
                        "1     0.0  \n",
                        "2     2.0  \n",
                        "3     1.0  \n",
                        "4     NaN  \n",
                        "\n",
                        "[5 rows x 36 columns]\n"
                    ]
                }
            ],
            "source": [
                "from pyvolleydata.lovb import load_lovb_player_boxscore\n",
                "\n",
                "# Get the lovb player boxscore for 2025\n",
                "player_boxscore = load_lovb_player_boxscore(2025)\n",
                "print(player_boxscore.head())"
            ]
        },
        {
            "cell_type": "markdown",
            "metadata": {},
            "source": [
                "`load_mlv_team_boxscore()`"
            ]
        },
        {
            "cell_type": "code",
            "execution_count": 12,
            "metadata": {},
            "outputs": [
                {
                    "name": "stdout",
                    "output_type": "stream",
                    "text": [
                        "     match_id  season            match_datetime team_involved  \\\n",
                        "694   2160916    2025  2025-01-10T00:00:00.000Z          home   \n",
                        "695   2160916    2025  2025-01-10T00:00:00.000Z          home   \n",
                        "696   2160916    2025  2025-01-10T00:00:00.000Z          home   \n",
                        "697   2160916    2025  2025-01-10T00:00:00.000Z          away   \n",
                        "698   2160916    2025  2025-01-10T00:00:00.000Z          away   \n",
                        "\n",
                        "             team_name  set_number  serves  serve_errors  serve_aces  \\\n",
                        "694  Orlando Valkyries           1      25             1           1   \n",
                        "695  Orlando Valkyries           2      24             2           2   \n",
                        "696  Orlando Valkyries           3      26             5           1   \n",
                        "697     San Diego Mojo           1      18             5           0   \n",
                        "698     San Diego Mojo           2      19             4           0   \n",
                        "\n",
                        "     serve_efficiency  ...  perfect_reception_ratio  block_points  \\\n",
                        "694             0.040  ...                     0.23             3   \n",
                        "695             0.000  ...                     0.33             1   \n",
                        "696            -0.154  ...                     0.29             1   \n",
                        "697            -0.222  ...                     0.08             1   \n",
                        "698            -0.211  ...                     0.23             1   \n",
                        "\n",
                        "     block_touches  earned_points  net_points  assists  successful_digs  \\\n",
                        "694              5             18          15       12               15   \n",
                        "695              2             18          16       14               15   \n",
                        "696              3             17           7       14               29   \n",
                        "697              1             15           7       14                9   \n",
                        "698              8             16           7       14               19   \n",
                        "\n",
                        "                           id  spike_hp  points  \n",
                        "694  6780447a19c53e576a0e9ec0         1       8  \n",
                        "695  6780447a19c53e576a0e9ec0         1       8  \n",
                        "696  6780447a19c53e576a0e9ec0         0       5  \n",
                        "697  6780447a19c53e576a0e9ec0         3       1  \n",
                        "698  6780447a19c53e576a0e9ec0         1       4  \n",
                        "\n",
                        "[5 rows x 28 columns]\n"
                    ]
                }
            ],
            "source": [
                "from pyvolleydata.mlv import load_mlv_team_boxscore\n",
                "\n",
                "# Get the mlv team boxscore for 2025\n",
                "team_boxscore = load_mlv_team_boxscore(2025)\n",
                "print(team_boxscore.head())"
            ]
        },
        {
            "cell_type": "markdown",
            "metadata": {},
            "source": [
                "## Working with AUPVB Data\n",
                "\n",
                "`pyvolleydata`  provides a dedicated set of functions for **AUPVB** data that differ from those used in the **MLV** and the **LOVB** league.\n",
                "\n",
                "This section shows how to use these functions to access and work with AUPVB data."
            ]
        },
        {
            "cell_type": "markdown",
            "metadata": {},
            "source": [
                "`load_aupvb_player_info()`"
            ]
        },
        {
            "cell_type": "code",
            "execution_count": 8,
            "metadata": {},
            "outputs": [
                {
                    "name": "stdout",
                    "output_type": "stream",
                    "text": [
                        "   season  week_number  game_number                      game_date  rank  \\\n",
                        "0    2021          1.0          1.0  2021-02-27T00:00:00.000+00:00   1.0   \n",
                        "1    2021          1.0          1.0  2021-02-27T00:00:00.000+00:00   5.0   \n",
                        "2    2021          1.0          1.0  2021-02-27T00:00:00.000+00:00   6.0   \n",
                        "3    2021          1.0          1.0  2021-02-27T00:00:00.000+00:00  17.0   \n",
                        "4    2021          1.0          1.0  2021-02-27T00:00:00.000+00:00  11.0   \n",
                        "\n",
                        "   rank_change  cumulative_points  points_this_match  played_this_match  \\\n",
                        "0          0.0              369.0              369.0               True   \n",
                        "1         17.0              304.0              304.0               True   \n",
                        "2         -1.0              197.0              197.0               True   \n",
                        "3         -2.0              199.0              199.0               True   \n",
                        "4         19.0              222.0              222.0               True   \n",
                        "\n",
                        "  first_name  ... home_team_name  away_team_name  season_id   season_type  \\\n",
                        "0     Jordan  ...      Team King   Team Sybeldon          3  Championship   \n",
                        "1     Karsta  ...      Team King   Team Sybeldon          3  Championship   \n",
                        "2       Deja  ...      Team King   Team Sybeldon          3  Championship   \n",
                        "3     Kaylee  ...      Team King   Team Sybeldon          3  Championship   \n",
                        "4     Lianna  ...      Team King   Team Sybeldon          3  Championship   \n",
                        "\n",
                        "   player_id      player_slug  uniform_number_display  team_id    type  \\\n",
                        "0       55.0    jordan-larson                    10.0     29.0  Player   \n",
                        "1       59.0      karsta-lowe                    25.0     29.0  Player   \n",
                        "2       68.0   deja-mcclendon                    18.0     29.0  Player   \n",
                        "3      112.0     kaylee-manns                    34.0     29.0  Player   \n",
                        "4      114.0  lianna-sybeldon                    30.0     29.0  Player   \n",
                        "\n",
                        "    stat_type  \n",
                        "0  Game Stats  \n",
                        "1  Game Stats  \n",
                        "2  Game Stats  \n",
                        "3  Game Stats  \n",
                        "4  Game Stats  \n",
                        "\n",
                        "[5 rows x 53 columns]\n"
                    ]
                }
            ],
            "source": [
                "from pyvolleydata.aupvb import load_aupvb_player_info\n",
                "\n",
                "# Get the aupvb player info for 2021\n",
                "player_info = load_aupvb_player_info(2021)\n",
                "print(player_info.head())"
            ]
        },
        {
            "cell_type": "markdown",
            "metadata": {},
            "source": [
                "`load_aupvb_leaderboards()`"
            ]
        },
        {
            "cell_type": "code",
            "execution_count": 9,
            "metadata": {},
            "outputs": [
                {
                    "name": "stdout",
                    "output_type": "stream",
                    "text": [
                        "   season  week_number  game_number  game_rank first_name   last_name  \\\n",
                        "0    2021            1            1          1     Jordan      Larson   \n",
                        "1    2021            1            1          2     Karsta        Lowe   \n",
                        "2    2021            1            1          3     Lauren  Gibbemeyer   \n",
                        "3    2021            1            1          4     Lianna    Sybeldon   \n",
                        "4    2021            1            1          5       Deja   McClendon   \n",
                        "\n",
                        "   uniform_number  total_points  mvp_points  win_points  ...  overall_rank  \\\n",
                        "0              10           369          60         140  ...             1   \n",
                        "1              25           304          40         140  ...             2   \n",
                        "2               6           270          20         140  ...             3   \n",
                        "3              30           222           0         140  ...             4   \n",
                        "4              18           210           0         140  ...             5   \n",
                        "\n",
                        "   overall_rank_change  total_au_points  percent_change  position_change  \\\n",
                        "0                  0.0              369        0.000000              0.0   \n",
                        "1                  0.0              304        0.000000              0.0   \n",
                        "2                  0.0              270        0.000000              0.0   \n",
                        "3                  0.0              222        0.000000              0.0   \n",
                        "4                  1.0              210        6.598985              1.0   \n",
                        "\n",
                        "   updated_flg  tie_flg  missed_games_flg  previous_seqno  has_game_experience  \n",
                        "0        False    False             False             788                    1  \n",
                        "1        False    False             False             788                    1  \n",
                        "2        False    False             False             788                    1  \n",
                        "3        False    False             False             788                    1  \n",
                        "4        False    False             False             788                    1  \n",
                        "\n",
                        "[5 rows x 70 columns]\n"
                    ]
                }
            ],
            "source": [
                "from pyvolleydata.aupvb import load_aupvb_leaderboards\n",
                "\n",
                "# Get the aupvb leaderboards for 2021\n",
                "leaderboards = load_aupvb_leaderboards(2021)\n",
                "print(leaderboards.head())"
            ]
        },
        {
            "cell_type": "markdown",
            "metadata": {},
            "source": [
                "`load_aupvb_pbp()`"
            ]
        },
        {
            "cell_type": "code",
            "execution_count": 10,
            "metadata": {},
            "outputs": [
                {
                    "name": "stdout",
                    "output_type": "stream",
                    "text": [
                        "   season  week_number  game_number  play_sequence_number  set_number  \\\n",
                        "0    2021            1            1                     1           0   \n",
                        "1    2021            1            1                     2           0   \n",
                        "2    2021            1            1                     3           0   \n",
                        "3    2021            1            1                     4           1   \n",
                        "4    2021            1            1                     5           1   \n",
                        "\n",
                        "   rally_number      play_code  narrative_formatted  player_id  serve_ace  \\\n",
                        "0           NaN  ROSTER TEAM A                  NaN        NaN      False   \n",
                        "1           NaN  ROSTER TEAM B                  NaN        NaN      False   \n",
                        "2           NaN     MATCH INFO                  NaN        NaN      False   \n",
                        "3           1.0          Serve                  NaN       68.0      False   \n",
                        "4           1.0        Receive                  NaN      116.0      False   \n",
                        "\n",
                        "   ...  set_status_lk  season_id  game_id  \\\n",
                        "0  ...    NOT STARTED          3       31   \n",
                        "1  ...    NOT STARTED          3       31   \n",
                        "2  ...    NOT STARTED          3       31   \n",
                        "3  ...    In Progress          3       31   \n",
                        "4  ...    In Progress          3       31   \n",
                        "\n",
                        "                                           play_text   start_time  \\\n",
                        "0  Play 1 - None - ROSTER TEAM A - None - 27.0648...    27.064877   \n",
                        "1  Play 2 - None - ROSTER TEAM B - None - 27.0648...    27.064877   \n",
                        "2  Play 3 - None - MATCH INFO - None - 27.0648773487    27.064877   \n",
                        "3  Play 4 - 68 - Serve - Continues - 2214.4649142327  2214.464914   \n",
                        "4    Play 5 - 116 - Receive - Good - 2223.5316511633  2223.531651   \n",
                        "\n",
                        "      end_time  video_minutes  video_seconds  alternate_video_seconds  \\\n",
                        "0    32.064877            NaN            NaN                      NaN   \n",
                        "1    32.064877            NaN            NaN                      NaN   \n",
                        "2    32.064877            NaN            NaN                      NaN   \n",
                        "3  2223.531651            NaN            NaN                      NaN   \n",
                        "4  2228.597120            NaN            NaN                      NaN   \n",
                        "\n",
                        "   date_time_file_received  \n",
                        "0                      NaN  \n",
                        "1                      NaN  \n",
                        "2                      NaN  \n",
                        "3                      NaN  \n",
                        "4                      NaN  \n",
                        "\n",
                        "[5 rows x 41 columns]\n"
                    ]
                }
            ],
            "source": [
                "from pyvolleydata.aupvb import load_aupvb_pbp\n",
                "\n",
                "# Get the aupvb pbp for 2021\n",
                "pbp = load_aupvb_pbp(2021)\n",
                "print(pbp.head())"
            ]
        }
    ],
    "metadata": {
        "kernelspec": {
            "display_name": "pyvolleydata-SZPbhTt8-py3.13",
            "language": "python",
            "name": "python3"
        },
        "language_info": {
            "codemirror_mode": {
                "name": "ipython",
                "version": 3
            },
            "file_extension": ".py",
            "mimetype": "text/x-python",
            "name": "python",
            "nbconvert_exporter": "python",
            "pygments_lexer": "ipython3",
            "version": "3.13.1"
        }
    },
    "nbformat": 4,
    "nbformat_minor": 4
}
